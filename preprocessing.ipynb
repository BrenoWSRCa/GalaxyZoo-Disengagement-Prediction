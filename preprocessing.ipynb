{
 "cells": [
  {
   "cell_type": "markdown",
   "metadata": {
    "collapsed": true
   },
   "source": [
    "# GalaxyZoo HIT"
   ]
  },
  {
   "cell_type": "code",
   "execution_count": 1,
   "metadata": {
    "pycharm": {
     "name": "#%%\n"
    }
   },
   "outputs": [],
   "source": [
    "import pandas as pd\n",
    "import seaborn as sns\n",
    "from sklearn.model_selection import train_test_split\n",
    "from utils import calc_session_boundaries, expand_session"
   ]
  },
  {
   "cell_type": "code",
   "execution_count": 3,
   "metadata": {
    "pycharm": {
     "name": "#%%\n"
    }
   },
   "outputs": [],
   "source": [
    "! curl -s -d /dev/null https://docs.google.com/spreadsheets/d/140n_GZ7nNHhwcG_eIUThxBKiIBoZLxFV7wKMwoUsVIw/export?exportFormat=csv > Data_for_Student_Hiring_Project-Citizen_Science-ngzLast100K1.csv\n",
    "\n",
    "dataframe = pd.read_csv('Data_for_Student_Hiring_Project-Citizen_Science-ngzLast100K.csv',\n",
    "                        header=None,\n",
    "                        names=['id', 'stamp'])"
   ]
  },
  {
   "cell_type": "code",
   "execution_count": 4,
   "metadata": {
    "pycharm": {
     "name": "#%%\n"
    }
   },
   "outputs": [
    {
     "name": "stdout",
     "output_type": "stream",
     "text": [
      "There are 943 unique id's\n",
      "There are 13370 unique time stamp's\n",
      "The total recorded time is 13 days 00:40:00.\n"
     ]
    }
   ],
   "source": [
    "print(f'There are {len(dataframe.id.unique())} unique id\\'s')\n",
    "print(f'There are {len(dataframe.stamp.unique())} unique time stamp\\'s')\n",
    "\n",
    "dataframe.head()\n",
    "\n",
    "time_stamp = pd.to_datetime(dataframe['stamp'])\n",
    "dataframe.drop('stamp', axis=1, inplace=True)\n",
    "dataframe['stamp'] = time_stamp\n",
    "\n",
    "print(f'The total recorded time is {dataframe.stamp.max() - dataframe.stamp.min()}.')"
   ]
  },
  {
   "cell_type": "markdown",
   "metadata": {
    "pycharm": {
     "name": "#%% md\n"
    }
   },
   "source": [
    "### How many time stamps per id?"
   ]
  },
  {
   "cell_type": "code",
   "execution_count": 7,
   "metadata": {
    "pycharm": {
     "name": "#%%\n"
    }
   },
   "outputs": [
    {
     "data": {
      "text/plain": [
       "<matplotlib.axes._subplots.AxesSubplot at 0x128bb0650>"
      ]
     },
     "execution_count": 7,
     "metadata": {},
     "output_type": "execute_result"
    },
    {
     "data": {
      "image/png": "[encoded data removed]",
      "text/plain": [
       "<Figure size 432x288 with 1 Axes>"
      ]
     },
     "metadata": {
      "needs_background": "light"
     },
     "output_type": "display_data"
    }
   ],
   "source": [
    "num_entries = dataframe.groupby('id').count()\n",
    "num_entries.describe()\n",
    "sns.distplot(num_entries, axlabel='Stamps per id')"
   ]
  },
  {
   "cell_type": "code",
   "execution_count": 8,
   "metadata": {
    "pycharm": {
     "name": "#%%\n"
    }
   },
   "outputs": [
    {
     "data": {
      "text/plain": [
       "<matplotlib.axes._subplots.AxesSubplot at 0x127db67d0>"
      ]
     },
     "execution_count": 8,
     "metadata": {},
     "output_type": "execute_result"
    },
    {
     "data": {
      "image/png": "[encoded data removed]",
      "text/plain": [
       "<Figure size 432x288 with 1 Axes>"
      ]
     },
     "metadata": {
      "needs_background": "light"
     },
     "output_type": "display_data"
    }
   ],
   "source": [
    "sns.distplot(num_entries[num_entries['stamp'] < 100], axlabel='Stamps per id (max = 100)')"
   ]
  },
  {
   "cell_type": "markdown",
   "metadata": {
    "pycharm": {
     "name": "#%% md\n"
    }
   },
   "source": [
    "## Building train/test split\n",
    "\n",
    "Removing ids that show up only once in the dataset"
   ]
  },
  {
   "cell_type": "code",
   "execution_count": 9,
   "metadata": {
    "pycharm": {
     "name": "#%%\n"
    }
   },
   "outputs": [],
   "source": [
    "keep_entries = num_entries[num_entries.duplicated(subset=['stamp'], keep=False)]\n",
    "\n",
    "prediction_window = pd.Timedelta(minutes=5)\n",
    "max_session_gap = pd.Timedelta(minutes=30)"
   ]
  },
  {
   "cell_type": "markdown",
   "metadata": {
    "pycharm": {
     "name": "#%% md\n"
    }
   },
   "source": [
    "Step size:"
   ]
  },
  {
   "cell_type": "code",
   "execution_count": 10,
   "metadata": {
    "pycharm": {
     "name": "#%%\n"
    }
   },
   "outputs": [
    {
     "name": "stdout",
     "output_type": "stream",
     "text": [
      "The step size is: 0 days 00:01:00\n",
      "\n"
     ]
    }
   ],
   "source": [
    "t = dataframe.stamp.unique()\n",
    "t.sort()\n",
    "step_size = pd.Timedelta(min(t[1:] - t[0:-1]))\n",
    "print(f'The step size is: {step_size}\\n')"
   ]
  },
  {
   "cell_type": "markdown",
   "metadata": {
    "pycharm": {
     "name": "#%% md\n"
    }
   },
   "source": [
    "Here I add a disengage column that indicates if the user will disengage after the given HIT\n",
    "There are several contributions in the same minute. So I count those contributions.\n",
    "I also add 0 counts to minutes with no contributions within the same session.\n",
    "I use the concept of a session to avoid adding unnecessary empty lines."
   ]
  },
  {
   "cell_type": "code",
   "execution_count": 11,
   "metadata": {
    "pycharm": {
     "name": "#%%\n"
    }
   },
   "outputs": [],
   "source": [
    "dataframe['session'] = 0\n",
    "\n",
    "dataframe.groupby('id').apply(lambda x: calc_session_boundaries(x, dataframe, max_session_gap))\n",
    "dataframe = dataframe.groupby(['id', 'session']).apply(lambda x: expand_session(x, prediction_window, step_size))"
   ]
  },
  {
   "cell_type": "markdown",
   "metadata": {
    "pycharm": {
     "name": "#%% md\n"
    }
   },
   "source": [
    "Longest Session:"
   ]
  },
  {
   "cell_type": "code",
   "execution_count": 12,
   "metadata": {
    "pycharm": {
     "name": "#%%\n"
    }
   },
   "outputs": [
    {
     "name": "stdout",
     "output_type": "stream",
     "text": [
      "The longest recorded session had 0 days 03:36:00\n"
     ]
    }
   ],
   "source": [
    "longest_session = int(dataframe.reset_index(drop=True).groupby(['id', 'session'])['id', 'session'].count().\n",
    "                      reset_index(drop=True).groupby('session').max().max()[0])\n",
    "\n",
    "print(f'The longest recorded session had {longest_session * step_size}')"
   ]
  },
  {
   "cell_type": "markdown",
   "metadata": {
    "pycharm": {
     "name": "#%% md\n"
    }
   },
   "source": [
    "I stratified the sampling using the counting of time stamps per ID in order to ensure that train and test would have the same HIT distribution.\n",
    "I also set a fixed random state in order to keep results and comparisons consistent."
   ]
  },
  {
   "cell_type": "code",
   "execution_count": 13,
   "metadata": {
    "pycharm": {
     "name": "#%%\n"
    }
   },
   "outputs": [],
   "source": [
    "train_ids, test_ids = [pd.DataFrame(d) for d in\n",
    "                       train_test_split(keep_entries.index, stratify=keep_entries['stamp'], test_size=0.25,\n",
    "                                        random_state=42)]\n",
    "train_df = dataframe[dataframe['id'].isin(train_ids['id'])]\n",
    "test_df = dataframe[dataframe['id'].isin(test_ids['id'])]"
   ]
  },
  {
   "cell_type": "markdown",
   "metadata": {
    "pycharm": {
     "name": "#%% md\n"
    }
   },
   "source": [
    "Sanity check:"
   ]
  },
  {
   "cell_type": "code",
   "execution_count": 14,
   "metadata": {
    "pycharm": {
     "name": "#%%\n"
    }
   },
   "outputs": [
    {
     "name": "stdout",
     "output_type": "stream",
     "text": [
      "The test dataset vs the total dataset ratio is 0.22.\n"
     ]
    }
   ],
   "source": [
    "print(f'The test dataset vs the total dataset ratio is {len(test_df) / (len(test_df) + len(train_df)):4.2f}.')\n",
    "longest_train_session = int(train_df.reset_index(drop=True).groupby(['id', 'session'])['id', 'session'].count().\n",
    "                            reset_index(drop=True).groupby('session').max().max()[0])\n",
    "longest_test_session = int(test_df.reset_index(drop=True).groupby(['id', 'session'])['id', 'session'].count().\n",
    "                           reset_index(drop=True).groupby('session').max().max()[0])\n",
    "\n",
    "assert (longest_session == max(longest_test_session, longest_train_session)), 'Longest sessions do not match'"
   ]
  },
  {
   "cell_type": "markdown",
   "metadata": {
    "pycharm": {
     "name": "#%% md\n"
    }
   },
   "source": [
    "## Store the resulting data sets as CSV files"
   ]
  },
  {
   "cell_type": "code",
   "execution_count": null,
   "metadata": {
    "pycharm": {
     "name": "#%%\n"
    }
   },
   "outputs": [],
   "source": [
    "train_df.to_csv('train.csv', index=False)\n",
    "test_df.to_csv('test.csv', index=False)\n",
    "\n",
    "print('Done')"
   ]
  }
 ],
 "metadata": {
  "kernelspec": {
   "display_name": "Python 3",
   "language": "python",
   "name": "python3"
  },
  "language_info": {
   "codemirror_mode": {
    "name": "ipython",
    "version": 3
   },
   "file_extension": ".py",
   "mimetype": "text/x-python",
   "name": "python",
   "nbconvert_exporter": "python",
   "pygments_lexer": "ipython3",
   "version": "3.7.5"
  },
  "pycharm": {
   "stem_cell": {
    "cell_type": "raw",
    "metadata": {
     "collapsed": false
    },
    "source": []
   }
  }
 },
 "nbformat": 4,
 "nbformat_minor": 1
}
