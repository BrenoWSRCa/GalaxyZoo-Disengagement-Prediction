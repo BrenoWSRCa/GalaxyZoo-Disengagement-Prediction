{
 "cells": [
  {
   "cell_type": "markdown",
   "metadata": {
    "collapsed": true,
    "pycharm": {
     "name": "#%% md\n"
    }
   },
   "source": [
    "# Recurrent Predictors"
   ]
  },
  {
   "cell_type": "code",
   "execution_count": null,
   "outputs": [],
   "source": [
    "import numpy as np\n",
    "import pandas as pd\n",
    "import torch\n",
    "import torch.nn as nn\n",
    "import torch.optim as optim\n",
    "from matplotlib import pyplot as plt\n",
    "from sklearn import metrics\n",
    "from tqdm import tqdm\n",
    "\n",
    "from rnn_models import LSTMTagger\n",
    "from utils import report_model, prepare_sequence"
   ],
   "metadata": {
    "collapsed": false,
    "pycharm": {
     "name": "#%%\n"
    }
   }
  },
  {
   "cell_type": "markdown",
   "source": [
    "Keeping initial random state fixed for reproducibility:"
   ],
   "metadata": {
    "collapsed": false,
    "pycharm": {
     "name": "#%% md\n"
    }
   }
  },
  {
   "cell_type": "code",
   "execution_count": null,
   "outputs": [],
   "source": [
    "torch.manual_seed(1)\n",
    "np.random.seed(0)"
   ],
   "metadata": {
    "collapsed": false,
    "pycharm": {
     "name": "#%%\n"
    }
   }
  },
  {
   "cell_type": "markdown",
   "source": [
    "Loading datasets"
   ],
   "metadata": {
    "collapsed": false,
    "pycharm": {
     "name": "#%% md\n"
    }
   }
  },
  {
   "cell_type": "code",
   "execution_count": null,
   "outputs": [],
   "source": [
    "train_df = pd.read_csv('train.csv')\n",
    "test_df = pd.read_csv('test.csv')"
   ],
   "metadata": {
    "collapsed": false,
    "pycharm": {
     "name": "#%%\n"
    }
   }
  },
  {
   "cell_type": "code",
   "execution_count": null,
   "outputs": [],
   "source": [
    "max_hits = 55"
   ],
   "metadata": {
    "collapsed": false,
    "pycharm": {
     "name": "#%%\n"
    }
   }
  },
  {
   "cell_type": "markdown",
   "source": [
    "Instantiating report table"
   ],
   "metadata": {
    "collapsed": false,
    "pycharm": {
     "name": "#%% md\n"
    }
   }
  },
  {
   "cell_type": "code",
   "execution_count": null,
   "outputs": [],
   "source": [
    "clf_table = pd.DataFrame(columns=['name', 'window_size', 'accuracy', 'AUC']).set_index(['name', 'window_size'])"
   ],
   "metadata": {
    "collapsed": false,
    "pycharm": {
     "name": "#%%\n"
    }
   }
  },
  {
   "cell_type": "markdown",
   "source": [
    "Dataset to "
   ],
   "metadata": {
    "collapsed": false,
    "pycharm": {
     "name": "#%% md\n"
    }
   }
  },
  {
   "cell_type": "code",
   "execution_count": null,
   "outputs": [],
   "source": [
    "X_train_all, y_train_all = prepare_sequence(train_df)\n",
    "X_test, _ = prepare_sequence(test_df)\n",
    "\n",
    "test_idx = ~pd.isnull(test_df['disengage'])\n",
    "y_test = test_df.loc[test_idx, 'disengage']\n",
    "sample_weight = test_df.loc[test_idx, 'num_hit']"
   ],
   "metadata": {
    "collapsed": false,
    "pycharm": {
     "name": "#%%\n"
    }
   }
  },
  {
   "cell_type": "markdown",
   "source": [
    "Splitting train in train and validation"
   ],
   "metadata": {
    "collapsed": false,
    "pycharm": {
     "name": "#%% md\n"
    }
   }
  },
  {
   "cell_type": "code",
   "execution_count": null,
   "outputs": [],
   "source": [
    "train_dev_ratio = 0.8\n",
    "train_idx = np.isin(np.arange(len(X_train_all)),\n",
    "                    np.random.choice(len(X_train_all), int(len(X_train_all) * train_dev_ratio), replace=False))\n",
    "X_train, y_train = [], []\n",
    "X_val, y_val = [], []\n",
    "for i in range(len(train_idx)):\n",
    "    if train_idx[i]:\n",
    "        X_train.append(X_train_all[i])\n",
    "        y_train.append(y_train_all[i])\n",
    "    else:\n",
    "        X_val.append(X_train_all[i])\n",
    "        y_val.append(y_train_all[i])\n",
    "\n",
    "sample_weight = test_df.loc[~pd.isnull(test_df['disengage']), 'num_hit']"
   ],
   "metadata": {
    "collapsed": false,
    "pycharm": {
     "name": "#%%\n"
    }
   }
  },
  {
   "cell_type": "markdown",
   "source": [
    "Running the model"
   ],
   "metadata": {
    "collapsed": false,
    "pycharm": {
     "name": "#%% md\n"
    }
   }
  },
  {
   "cell_type": "code",
   "execution_count": null,
   "outputs": [],
   "source": [
    "EMBEDDING_DIM = 6\n",
    "HIDDEN_DIM = 6\n",
    "NUM_EPOCHS = 5000"
   ],
   "metadata": {
    "collapsed": false,
    "pycharm": {
     "name": "#%%\n"
    }
   }
  },
  {
   "cell_type": "markdown",
   "source": [
    "Model definition"
   ],
   "metadata": {
    "collapsed": false,
    "pycharm": {
     "name": "#%% md\n"
    }
   }
  },
  {
   "cell_type": "code",
   "execution_count": null,
   "outputs": [],
   "source": [
    "model = LSTMTagger(max_hits, HIDDEN_DIM, max_hits, 2)\n",
    "model_best_loss = LSTMTagger(max_hits, HIDDEN_DIM, max_hits, 2)\n",
    "model_best_auc = LSTMTagger(max_hits, HIDDEN_DIM, max_hits, 2)\n",
    "loss_function = nn.NLLLoss()\n",
    "optimizer = optim.SGD(model.parameters(), lr=0.001)"
   ],
   "metadata": {
    "collapsed": false,
    "pycharm": {
     "name": "#%%\n"
    }
   }
  },
  {
   "cell_type": "code",
   "execution_count": null,
   "outputs": [],
   "source": [
    "loss_arr = np.ndarray(NUM_EPOCHS)\n",
    "auc_interval = 100\n",
    "auc_arr = np.ndarray(int(np.ceil(NUM_EPOCHS / auc_interval)))\n",
    "\n",
    "pos = 0\n",
    "last_auc = 0\n",
    "last_loss = np.inf"
   ],
   "metadata": {
    "collapsed": false,
    "pycharm": {
     "name": "#%%\n"
    }
   }
  },
  {
   "cell_type": "code",
   "execution_count": null,
   "outputs": [],
   "source": [
    "for epoch in tqdm(range(NUM_EPOCHS), desc='Training'):\n",
    "    for sentence_in, targets in zip(X_train, y_train):\n",
    "        model.zero_grad()\n",
    "        tag_scores = model(sentence_in)\n",
    "\n",
    "        loss = loss_function(tag_scores, targets)\n",
    "        loss_arr[epoch] = loss.item()\n",
    "        loss.backward()\n",
    "        optimizer.step()\n",
    "\n",
    "    if epoch % auc_interval == 0:\n",
    "        with torch.no_grad():\n",
    "            pred = np.hstack([model(sequence).argmax(axis=1).numpy() for sequence in X_val])\n",
    "            fpr, tpr, thresholds = metrics.roc_curve(np.hstack(y_val), pred, pos_label=1)\n",
    "            auc = metrics.auc(fpr, tpr)\n",
    "            auc_arr[pos] = auc\n",
    "\n",
    "            # saving best models\n",
    "            if auc > last_auc:\n",
    "                last_auc = auc_arr[pos]\n",
    "                model_best_auc.load_state_dict(model.state_dict())\n",
    "            if loss < last_loss:\n",
    "                last_loss = loss_arr[epoch]\n",
    "                model_best_auc.load_state_dict(model.state_dict())\n",
    "            print(f'Epoch {epoch:5d}: loss({loss_arr[epoch]:12.10f}), auc({auc_arr[pos]:12.10f})')\n",
    "        pos += 1"
   ],
   "metadata": {
    "collapsed": false,
    "pycharm": {
     "name": "#%%\n"
    }
   }
  },
  {
   "cell_type": "markdown",
   "source": [
    "Ploting training curves"
   ],
   "metadata": {
    "collapsed": false,
    "pycharm": {
     "name": "#%% md\n"
    }
   }
  },
  {
   "cell_type": "code",
   "execution_count": null,
   "outputs": [],
   "source": [
    "fig, axs = plt.subplots(1, 2)\n",
    "axs[0].plot(loss_arr, 'b')\n",
    "axs[0].set_title('Loss')\n",
    "axs[0].set_xlabel = 'Epoch'\n",
    "\n",
    "axs[1].plot(np.arange(len(auc_arr)) * auc_interval, auc_arr, 'r')\n",
    "axs[1].set_title('AUC')\n",
    "axs[1].set_xlabel = 'Epoch'\n",
    "plt.show()"
   ],
   "metadata": {
    "collapsed": false,
    "pycharm": {
     "name": "#%%\n"
    }
   }
  },
  {
   "cell_type": "markdown",
   "source": [
    "Running prediction and writing reports"
   ],
   "metadata": {
    "collapsed": false,
    "pycharm": {
     "name": "#%% md\n"
    }
   }
  },
  {
   "cell_type": "code",
   "execution_count": null,
   "outputs": [],
   "source": [
    "with torch.no_grad():\n",
    "    raw_pred = np.hstack([model(sequence).argmax(axis=1).numpy() for sequence in X_test])\n",
    "    pred = raw_pred[test_idx]\n",
    "    report_model(y_test, pred, sample_weight=sample_weight, name='RNN', clf_table=clf_table)\n",
    "\n",
    "    raw_pred = np.hstack([model_best_auc(sequence).argmax(axis=1).numpy() for sequence in X_test])\n",
    "    pred = raw_pred[test_idx]\n",
    "    report_model(y_test, pred, sample_weight=sample_weight, name='RNN - best validation AUC', clf_table=clf_table)\n",
    "\n",
    "    raw_pred = np.hstack([model_best_loss(sequence).argmax(axis=1).numpy() for sequence in X_test])\n",
    "    pred = raw_pred[test_idx]\n",
    "    report_model(y_test, pred, sample_weight=sample_weight, name='RNN - best loss', clf_table=clf_table)"
   ],
   "metadata": {
    "collapsed": false,
    "pycharm": {
     "name": "#%%\n"
    }
   }
  },
  {
   "cell_type": "markdown",
   "source": [
    "Runing baseline methods\n",
    "- Every HIT implies that the user will disengage soon"
   ],
   "metadata": {
    "collapsed": false,
    "pycharm": {
     "name": "#%% md\n"
    }
   }
  },
  {
   "cell_type": "code",
   "execution_count": null,
   "outputs": [],
   "source": [
    "fpr, tpr, _ = metrics.roc_curve(y_test, np.zeros(y_test.values.shape), sample_weight=sample_weight,pos_label=1)\n",
    "auc = metrics.auc(fpr, tpr)\n",
    "acc = metrics.accuracy_score(y_test, pred)\n",
    "clf_table.loc[('All zeroes', '--'), ['accuracy', 'AUC']] = acc, auc"
   ],
   "metadata": {
    "collapsed": false,
    "pycharm": {
     "name": "#%%\n"
    }
   }
  },
  {
   "cell_type": "markdown",
   "source": [
    "- Every HIT implies that the user will not disengage soon"
   ],
   "metadata": {
    "collapsed": false,
    "pycharm": {
     "name": "#%% md\n"
    }
   }
  },
  {
   "cell_type": "code",
   "execution_count": null,
   "outputs": [],
   "source": [
    "fpr, tpr, _ = metrics.roc_curve(y_test, np.ones(y_test.values.shape), sample_weight=sample_weight, pos_label=1)\n",
    "auc = metrics.auc(fpr, tpr)\n",
    "acc = metrics.accuracy_score(y_test, pred)\n",
    "clf_table.loc[('All ones', '--'), ['accuracy', 'AUC']] = acc, auc"
   ],
   "metadata": {
    "collapsed": false,
    "pycharm": {
     "name": "#%%\n"
    }
   }
  },
  {
   "cell_type": "code",
   "execution_count": null,
   "outputs": [],
   "source": [
    "print(clf_table)\n",
    "\n"
   ],
   "metadata": {
    "collapsed": false,
    "pycharm": {
     "name": "#%%\n"
    }
   }
  }
 ],
 "metadata": {
  "kernelspec": {
   "display_name": "Python 3",
   "language": "python",
   "name": "python3"
  },
  "language_info": {
   "codemirror_mode": {
    "name": "ipython",
    "version": 2
   },
   "file_extension": ".py",
   "mimetype": "text/x-python",
   "name": "python",
   "nbconvert_exporter": "python",
   "pygments_lexer": "ipython2",
   "version": "2.7.6"
  },
  "pycharm": {
   "stem_cell": {
    "cell_type": "raw",
    "source": [],
    "metadata": {
     "collapsed": false
    }
   }
  }
 },
 "nbformat": 4,
 "nbformat_minor": 0
}