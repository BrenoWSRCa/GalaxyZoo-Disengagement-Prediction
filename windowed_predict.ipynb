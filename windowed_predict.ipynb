{
 "cells": [
  {
   "cell_type": "markdown",
   "metadata": {
    "collapsed": true,
    "pycharm": {
     "name": "#%% md\n"
    }
   },
   "source": [
    "# Windowed predictors\n",
    "Evaluating scikit estimators using windows"
   ]
  },
  {
   "cell_type": "code",
   "execution_count": null,
   "outputs": [],
   "source": [
    "import numpy as np\n",
    "import pandas as pd\n",
    "from sklearn import metrics\n",
    "from utils import get_arrays"
   ],
   "metadata": {
    "collapsed": false,
    "pycharm": {
     "name": "#%%\n"
    }
   }
  },
  {
   "cell_type": "code",
   "execution_count": null,
   "outputs": [],
   "source": [
    "from sklearn.ensemble import RandomForestClassifier\n",
    "from sklearn.linear_model import LogisticRegression, Perceptron\n",
    "from sklearn.neural_network import MLPClassifier\n",
    "from sklearn.metrics import classification_report\n",
    "from sklearn.naive_bayes import GaussianNB\n",
    "from sklearn.neighbors import KNeighborsClassifier"
   ],
   "metadata": {
    "collapsed": false,
    "pycharm": {
     "name": "#%%\n"
    }
   }
  },
  {
   "cell_type": "code",
   "execution_count": null,
   "outputs": [],
   "source": [
    "pd.set_option('display.max_rows', 150)"
   ],
   "metadata": {
    "collapsed": false,
    "pycharm": {
     "name": "#%%\n"
    }
   }
  },
  {
   "cell_type": "markdown",
   "source": [
    "Load datasets"
   ],
   "metadata": {
    "collapsed": false,
    "pycharm": {
     "name": "#%% md\n"
    }
   }
  },
  {
   "cell_type": "code",
   "execution_count": null,
   "outputs": [],
   "source": [
    "train_df = pd.read_csv('train.csv')\n",
    "test_df = pd.read_csv('test.csv')\n",
    "train_ids = train_df['id'].unique()"
   ],
   "metadata": {
    "collapsed": false,
    "pycharm": {
     "name": "#%%\n"
    }
   }
  },
  {
   "cell_type": "code",
   "execution_count": null,
   "outputs": [],
   "source": [
    "entries = []\n",
    "for pos, idx in enumerate(train_ids):\n",
    "    df = train_df.loc[train_df['id'] == idx, :]\n",
    "    entries.append(df.shape[0])\n",
    "entries = np.array(entries)\n",
    "\n",
    "for i in range(1, 11):\n",
    "    print(f'{i:2d}: {100 * sum(entries < i) / len(entries):6.2f}%')"
   ],
   "metadata": {
    "collapsed": false,
    "pycharm": {
     "name": "#%%\n"
    }
   }
  },
  {
   "cell_type": "markdown",
   "source": [
    "Instantiating report table:"
   ],
   "metadata": {
    "collapsed": false,
    "pycharm": {
     "name": "#%% md\n"
    }
   }
  },
  {
   "cell_type": "code",
   "execution_count": null,
   "outputs": [],
   "source": [
    "clf_table = pd.DataFrame(columns=['name', 'window_size', 'accuracy', 'AUC']).set_index(['name', 'window_size'])"
   ],
   "metadata": {
    "collapsed": false,
    "pycharm": {
     "name": "#%%\n"
    }
   }
  },
  {
   "cell_type": "markdown",
   "source": [
    "Converting test labels and sample weight to arrays"
   ],
   "metadata": {
    "collapsed": false,
    "pycharm": {
     "name": "#%% md\n"
    }
   }
  },
  {
   "cell_type": "code",
   "execution_count": null,
   "outputs": [],
   "source": [
    "test_idx = ~pd.isnull(test_df['disengage'])\n",
    "y_test = test_df.loc[test_idx, 'disengage']\n",
    "sample_weight = test_df.loc[test_idx, 'num_hit']"
   ],
   "metadata": {
    "collapsed": false,
    "pycharm": {
     "name": "#%%\n"
    }
   }
  },
  {
   "cell_type": "markdown",
   "source": [
    "Running models"
   ],
   "metadata": {
    "collapsed": false,
    "pycharm": {
     "name": "#%% md\n"
    }
   }
  },
  {
   "cell_type": "code",
   "execution_count": null,
   "outputs": [],
   "source": [
    "for window_size in range(1, 21):\n",
    "    _, X_train, y_train = get_arrays(train_df, window_size)\n",
    "    test_rows, X_test, _ = get_arrays(test_df, window_size)\n",
    "\n",
    "    print(f'Showing results with window_size = {window_size}')\n",
    "\n",
    "    for clf_name, clf in [('Random Forest', RandomForestClassifier(random_state=0)),\n",
    "                          ('Logistic Regression', LogisticRegression(random_state=0)),\n",
    "                          ('Perceptron', Perceptron(random_state=0)),\n",
    "                          ('Gaussian Naive Bayes', GaussianNB()),\n",
    "                          ('KNearest Neighbours, K = 15', KNeighborsClassifier(15)),\n",
    "                          ('Multilayer Perceptron', MLPClassifier(solver='lbfgs', alpha=1e-5, hidden_layer_sizes=(5, 2),\n",
    "                                                                  random_state=1))]:\n",
    "        clf.fit(X_train, y_train)\n",
    "        raw_pred = clf.predict(X_test)\n",
    "        pred = pd.Series(0, index=y_test.index)\n",
    "        pred.loc[test_rows] = raw_pred\n",
    "        report = classification_report(y_test, pred, sample_weight=sample_weight)\n",
    "        print(f'{clf_name}:')\n",
    "        print(report)\n",
    "        fpr, tpr, thresholds = metrics.roc_curve(y_test, pred, pos_label=1)\n",
    "        auc = metrics.auc(fpr, tpr)\n",
    "        acc = metrics.accuracy_score(y_test, pred)\n",
    "        clf_table.loc[(clf_name, window_size), ['accuracy', 'AUC']] = acc, auc"
   ],
   "metadata": {
    "collapsed": false,
    "pycharm": {
     "name": "#%%\n"
    }
   }
  },
  {
   "cell_type": "markdown",
   "source": [
    "Running baseline methods:\n",
    "- Every HIT implies that the user will disengage soon"
   ],
   "metadata": {
    "collapsed": false,
    "pycharm": {
     "name": "#%% md\n"
    }
   }
  },
  {
   "cell_type": "code",
   "execution_count": null,
   "outputs": [],
   "source": [
    "pred = np.zeros(y_test.values.shape)\n",
    "fpr, tpr, thresholds = metrics.roc_curve(y_test, pred,\n",
    "                                         sample_weight=sample_weight, pos_label=1)\n",
    "auc = metrics.auc(fpr, tpr)\n",
    "acc = metrics.accuracy_score(y_test, np.zeros(y_test.values.shape))\n",
    "clf_table.loc[('All zeroes', '--'), ['accuracy', 'AUC']] = acc, auc"
   ],
   "metadata": {
    "collapsed": false,
    "pycharm": {
     "name": "#%%\n"
    }
   }
  },
  {
   "cell_type": "markdown",
   "source": [
    "- Every HIT implies that the user will not disengage soon"
   ],
   "metadata": {
    "collapsed": false,
    "pycharm": {
     "name": "#%% md\n"
    }
   }
  },
  {
   "cell_type": "code",
   "execution_count": null,
   "outputs": [],
   "source": [
    "pred = np.ones(y_test.values.shape)\n",
    "fpr, tpr, thresholds = metrics.roc_curve(y_test, pred,\n",
    "                                         sample_weight=sample_weight, pos_label=1)\n",
    "auc = metrics.auc(fpr, tpr)\n",
    "acc = metrics.accuracy_score(y_test, pred)\n",
    "clf_table.loc[('All ones', '--'), ['accuracy', 'AUC']] = acc, auc"
   ],
   "metadata": {
    "collapsed": false,
    "pycharm": {
     "name": "#%%\n"
    }
   }
  },
  {
   "cell_type": "code",
   "execution_count": null,
   "outputs": [],
   "source": [
    "print(clf_table)"
   ],
   "metadata": {
    "collapsed": false,
    "pycharm": {
     "name": "#%%\n"
    }
   }
  }
 ],
 "metadata": {
  "kernelspec": {
   "display_name": "Python 3",
   "language": "python",
   "name": "python3"
  },
  "language_info": {
   "codemirror_mode": {
    "name": "ipython",
    "version": 2
   },
   "file_extension": ".py",
   "mimetype": "text/x-python",
   "name": "python",
   "nbconvert_exporter": "python",
   "pygments_lexer": "ipython2",
   "version": "2.7.6"
  },
  "pycharm": {
   "stem_cell": {
    "cell_type": "raw",
    "source": [],
    "metadata": {
     "collapsed": false
    }
   }
  }
 },
 "nbformat": 4,
 "nbformat_minor": 0
}